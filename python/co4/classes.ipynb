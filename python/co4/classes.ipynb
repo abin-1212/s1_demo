{
 "cells": [
  {
   "cell_type": "markdown",
   "metadata": {},
   "source": [
    "# Python Classes"
   ]
  },
  {
   "cell_type": "markdown",
   "metadata": {},
   "source": [
    "Python is an object oriented programming language. Hence almost everything in python is an object, with its properties and methods. \n",
    "\n",
    "- *Class* is a blueprint for creating *objects*. \n",
    "- *Objects* are *instances* of a class.\n",
    "- Classes define *attributes* (variables / characteristics) and *methods* (functions) that the instances will have."
   ]
  },
  {
   "cell_type": "markdown",
   "metadata": {},
   "source": [
    "### Constructor\n",
    "\n",
    "A special method __init__() is called whenever an object is created from a class. It is used to initialize the object's attributes."
   ]
  },
  {
   "cell_type": "code",
   "execution_count": 1,
   "metadata": {},
   "outputs": [
    {
     "name": "stdout",
     "output_type": "stream",
     "text": [
      "Harry ,  15\n"
     ]
    }
   ],
   "source": [
    "class Person:\n",
    "    def __init__(self, name, age):\n",
    "        self.name = name\n",
    "        self.age = age\n",
    "        \n",
    "p1 = Person(\"Harry\", 15)\n",
    "print(p1.name,\", \", p1.age)"
   ]
  },
  {
   "cell_type": "markdown",
   "metadata": {},
   "source": [
    "### String Representation\n",
    "\n",
    "The __str__() function controls what should be returned when the class object is represented as a string"
   ]
  },
  {
   "cell_type": "code",
   "execution_count": 3,
   "metadata": {},
   "outputs": [
    {
     "name": "stdout",
     "output_type": "stream",
     "text": [
      "<__main__.Person object at 0x0000029CBBB515D0>\n"
     ]
    }
   ],
   "source": [
    "# Without __str__\n",
    "print(p1)"
   ]
  },
  {
   "cell_type": "code",
   "execution_count": 7,
   "metadata": {},
   "outputs": [
    {
     "name": "stdout",
     "output_type": "stream",
     "text": [
      "John (20)\n"
     ]
    }
   ],
   "source": [
    "class Person:\n",
    "    def __init__(self, name, age):\n",
    "        self.name = name\n",
    "        self.age = age\n",
    "        \n",
    "    def __str__(self):\n",
    "        return f\"{self.name} ({self.age})\"\n",
    "    \n",
    "p2 = Person(\"John\", 20)\n",
    "print(p2)"
   ]
  },
  {
   "cell_type": "markdown",
   "metadata": {},
   "source": [
    "### Methods\n",
    "\n",
    "Methods are functions that belong to an object."
   ]
  },
  {
   "cell_type": "code",
   "execution_count": 9,
   "metadata": {},
   "outputs": [
    {
     "name": "stdout",
     "output_type": "stream",
     "text": [
      "Hello, Harry!\n"
     ]
    }
   ],
   "source": [
    "class Greeting:\n",
    "    def __init__(self, name):\n",
    "        self.name = name\n",
    "        \n",
    "    def greet(self):\n",
    "        print(f\"Hello, {self.name}!\")\n",
    "        \n",
    "g1 = Greeting(\"Harry\")\n",
    "g1.greet()"
   ]
  },
  {
   "cell_type": "markdown",
   "metadata": {},
   "source": [
    "### self Parameter\n",
    "\n",
    "The **self** parameter is a reference to the current instance of the class, and is used to access variables / arguments in that class. It does not have to be named 'self', but it must be the *first parameter* of any method."
   ]
  },
  {
   "cell_type": "markdown",
   "metadata": {},
   "source": [
    "### Object Properties\n",
    "\n",
    "Object properties can be modified and deleted. Also, an entire object can be deleted."
   ]
  },
  {
   "cell_type": "code",
   "execution_count": 14,
   "metadata": {},
   "outputs": [
    {
     "name": "stdout",
     "output_type": "stream",
     "text": [
      "Ron (17)\n"
     ]
    }
   ],
   "source": [
    "p3 = Person(\"Ron\", 17)\n",
    "print(p3)\n",
    "del p3.age\n",
    "del p3"
   ]
  },
  {
   "cell_type": "markdown",
   "metadata": {},
   "source": [
    "### pass Statement\n",
    "\n",
    "*class* definitions cannot be empty, hence if we have a class with no content, put in the **pass** statement to avoid an error."
   ]
  },
  {
   "cell_type": "code",
   "execution_count": 15,
   "metadata": {},
   "outputs": [],
   "source": [
    "class Nothing:\n",
    "    pass"
   ]
  },
  {
   "cell_type": "markdown",
   "metadata": {},
   "source": [
    "## Python Inheritance\n",
    "\n",
    "Inheritance allows us to define a class that inherits all the methods and properties (attributes) of another class.\n",
    "- **Parent class / Base class** is the class being inherited from.\n",
    "- **Child class / Derived class** is the class that inherits from another class."
   ]
  },
  {
   "cell_type": "code",
   "execution_count": 16,
   "metadata": {},
   "outputs": [
    {
     "name": "stdout",
     "output_type": "stream",
     "text": [
      "John Doe\n"
     ]
    }
   ],
   "source": [
    "class Person:\n",
    "    def __init__(self, fname, lname):\n",
    "        self.firstname = fname\n",
    "        self.lastname = lname\n",
    "    \n",
    "    def printname(self):\n",
    "        print(self.firstname, self.lastname)\n",
    "    \n",
    "class Student(Person):\n",
    "    pass\n",
    "    \n",
    "s1 = Student(\"John\", \"Doe\")\n",
    "s1.printname()"
   ]
  },
  {
   "cell_type": "markdown",
   "metadata": {},
   "source": [
    "### Method Overriding\n",
    "\n",
    "The child's __init__ function **overrides** the inheritance of __init__ function of the parent."
   ]
  },
  {
   "cell_type": "code",
   "execution_count": 19,
   "metadata": {},
   "outputs": [],
   "source": [
    "class Teacher(Person):\n",
    "    def __init__(self, name):\n",
    "        self.name = name\n",
    "    \n",
    "t1 = Teacher(\"Harry Potter\")\n"
   ]
  },
  {
   "cell_type": "markdown",
   "metadata": {},
   "source": [
    "Python also has a **super()** function that will make the child class inherit all the methods and properties from its parent."
   ]
  },
  {
   "cell_type": "code",
   "execution_count": 21,
   "metadata": {},
   "outputs": [
    {
     "name": "stdout",
     "output_type": "stream",
     "text": [
      "Severus Snape\n"
     ]
    }
   ],
   "source": [
    "class Teacher(Person):\n",
    "    def __init__(self, fname, lname, age):\n",
    "        super().__init__(fname, lname)\n",
    "        self.age = age\n",
    "        \n",
    "t2 = Teacher(\"Severus\", \"Snape\", 55)\n",
    "t2.printname()"
   ]
  },
  {
   "cell_type": "markdown",
   "metadata": {},
   "source": [
    "## Iterators\n",
    "\n",
    "Iterator is an object that contains a countable number of values. In python, an iterator is an object which implements the iterator protocol, which consists of the methods __iter__() and __next__()"
   ]
  },
  {
   "cell_type": "code",
   "execution_count": 26,
   "metadata": {},
   "outputs": [
    {
     "name": "stdout",
     "output_type": "stream",
     "text": [
      "red\n",
      "blue\n",
      "green\n"
     ]
    }
   ],
   "source": [
    "# List, tuple, dict, string... are iterable containers \n",
    "mytuple = (\"red\", \"blue\", \"green\")\n",
    "iterable = iter(mylist)\n",
    "print(next(iterable))\n",
    "print(next(iterable))\n",
    "print(next(iterable))"
   ]
  },
  {
   "cell_type": "markdown",
   "metadata": {},
   "source": [
    "### Create an Iterator\n",
    "\n",
    "- __iter__() method acts similar to __init__(), but must always return the iterator object itself (self)\n",
    "- __next__() method allows you to do operations, and must return the next item in the sequence"
   ]
  },
  {
   "cell_type": "code",
   "execution_count": 28,
   "metadata": {},
   "outputs": [
    {
     "name": "stdout",
     "output_type": "stream",
     "text": [
      "1\n",
      "2\n",
      "3\n",
      "4\n",
      "5\n"
     ]
    }
   ],
   "source": [
    "class myNumbers:\n",
    "    def __iter__(self):\n",
    "        self.n = 1\n",
    "        return self\n",
    "    \n",
    "    def __next__(self):\n",
    "        if self.n <= 5:\n",
    "            x = self.n\n",
    "            self.n += 1\n",
    "            return x\n",
    "        raise StopIteration\n",
    "\n",
    "num = myNumbers()\n",
    "iterable = iter(num)\n",
    "\n",
    "for x in iterable:\n",
    "    print(x)"
   ]
  },
  {
   "cell_type": "markdown",
   "metadata": {},
   "source": [
    "## Polymorphism\n",
    "\n",
    "Polymorphism in Class Methods refers to methods with the same name that can be executed on multiple classes"
   ]
  },
  {
   "cell_type": "code",
   "execution_count": 29,
   "metadata": {},
   "outputs": [
    {
     "name": "stdout",
     "output_type": "stream",
     "text": [
      "Bugatti Chiron\n",
      "Number of wheels:  4\n",
      "Royal Enfield Himalayan\n",
      "Number of wheels:  2\n",
      "Yamaha C23\n",
      "Number of wheels:  0\n"
     ]
    }
   ],
   "source": [
    "class Vehicle:\n",
    "    def __init__(self, brand, model):\n",
    "        self.brand = brand\n",
    "        self.model = model\n",
    "    \n",
    "class Car(Vehicle):\n",
    "    def wheels(self):\n",
    "        return 4\n",
    "\n",
    "class Bike(Vehicle):\n",
    "    def wheels(self):\n",
    "        return 2\n",
    "    \n",
    "class Boat(Vehicle):\n",
    "    def wheels(self):\n",
    "        return 0\n",
    "\n",
    "a = Car(\"Bugatti\", \"Chiron\")\n",
    "b = Bike(\"Royal Enfield\", \"Himalayan\")\n",
    "c = Boat(\"Yamaha\", \"C23\")\n",
    "\n",
    "for x in (a, b, c):\n",
    "    print(f\"{x.brand} {x.model}\")\n",
    "    print(\"Number of wheels: \", x.wheels())"
   ]
  }
 ],
 "metadata": {
  "kernelspec": {
   "display_name": "Python 3",
   "language": "python",
   "name": "python3"
  },
  "language_info": {
   "codemirror_mode": {
    "name": "ipython",
    "version": 3
   },
   "file_extension": ".py",
   "mimetype": "text/x-python",
   "name": "python",
   "nbconvert_exporter": "python",
   "pygments_lexer": "ipython3",
   "version": "3.11.3"
  }
 },
 "nbformat": 4,
 "nbformat_minor": 2
}
