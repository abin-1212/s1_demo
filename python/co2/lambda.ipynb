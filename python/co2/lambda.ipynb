{
 "cells": [
  {
   "cell_type": "markdown",
   "metadata": {},
   "source": [
    "# Lambda Functions\n",
    "\n",
    "Lambda functions are small anonymous functions that can take any number of arguments, but can have only one expression.\n",
    "\n",
    "`lambda arguments : expression`"
   ]
  },
  {
   "cell_type": "code",
   "execution_count": 1,
   "metadata": {},
   "outputs": [
    {
     "data": {
      "text/plain": [
       "144"
      ]
     },
     "execution_count": 1,
     "metadata": {},
     "output_type": "execute_result"
    }
   ],
   "source": [
    "square = lambda x: x * x\n",
    "square(-12)"
   ]
  },
  {
   "cell_type": "code",
   "execution_count": 4,
   "metadata": {},
   "outputs": [
    {
     "name": "stdout",
     "output_type": "stream",
     "text": [
      "12 18\n"
     ]
    }
   ],
   "source": [
    "# Function which multiplies an unknown number with the argument\n",
    "def myFunc(n):\n",
    "    return lambda a: a * n\n",
    "\n",
    "# Function which multiplies a number with 2\n",
    "doubler = myFunc(2)\n",
    "\n",
    "# Function which multiplies a number with 3\n",
    "tripler = myFunc(3)\n",
    "\n",
    "print(doubler(6), tripler(6))"
   ]
  }
 ],
 "metadata": {
  "kernelspec": {
   "display_name": "Python 3",
   "language": "python",
   "name": "python3"
  },
  "language_info": {
   "codemirror_mode": {
    "name": "ipython",
    "version": 3
   },
   "file_extension": ".py",
   "mimetype": "text/x-python",
   "name": "python",
   "nbconvert_exporter": "python",
   "pygments_lexer": "ipython3",
   "version": "3.11.3"
  }
 },
 "nbformat": 4,
 "nbformat_minor": 2
}
