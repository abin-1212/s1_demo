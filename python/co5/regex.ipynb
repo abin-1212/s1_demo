{
 "cells": [
  {
   "cell_type": "markdown",
   "metadata": {},
   "source": [
    "# RegEx\n",
    "\n",
    "RegEx or Regular Expression is a sequence of characters that form a search pattern. Python has a built-in package called `re`, which can be used to work with regular expressions."
   ]
  },
  {
   "cell_type": "code",
   "execution_count": 3,
   "metadata": {},
   "outputs": [
    {
     "name": "stdout",
     "output_type": "stream",
     "text": [
      "Yes\n"
     ]
    }
   ],
   "source": [
    "import re\n",
    "\n",
    "# Search a string if it starts with \"Hello\" and ends with \"you\"\n",
    "string = \"Hello, how are you\"\n",
    "if (re.search(\"^Hello.*you$\", string)):\n",
    "    print(\"Yes\")\n",
    "else:\n",
    "    print(\"no\")"
   ]
  },
  {
   "cell_type": "markdown",
   "metadata": {},
   "source": [
    "## RegEx Functions\n",
    "\n",
    "1. `findall`: Returns a list containing all matches\n",
    "2. `search`: Returns a match object\n",
    "3. `split`: Returns a list where the string has been split at each match\n",
    "4. `sub`: Replaces/substitutes match(es) with a string"
   ]
  },
  {
   "cell_type": "code",
   "execution_count": 12,
   "metadata": {},
   "outputs": [
    {
     "name": "stdout",
     "output_type": "stream",
     "text": [
      "['The', 'the']\n"
     ]
    }
   ],
   "source": [
    "string = \"The quick brown fox jumps over the lazy dog\"\n",
    "print(re.findall(\".he\", string))"
   ]
  },
  {
   "cell_type": "code",
   "execution_count": 13,
   "metadata": {},
   "outputs": [
    {
     "name": "stdout",
     "output_type": "stream",
     "text": [
      "['Is', 'this', 'what', 'I', 'think', 'it', 'is?']\n"
     ]
    }
   ],
   "source": [
    "# Split the string by each white space\n",
    "string = \"Is this what I think it is?\"\n",
    "print(re.split(\"\\s\", string))"
   ]
  },
  {
   "cell_type": "code",
   "execution_count": 15,
   "metadata": {},
   "outputs": [
    {
     "name": "stdout",
     "output_type": "stream",
     "text": [
      "H3llo, h3r3 you ar3\n"
     ]
    }
   ],
   "source": [
    "# Replace every occurence with a string of our choice\n",
    "txt = \"Hello, here you are\"\n",
    "print(re.sub(\"e\", \"3\", txt))"
   ]
  },
  {
   "cell_type": "markdown",
   "metadata": {},
   "source": [
    "## Metacharacters\n",
    "\n",
    "Characters with a specified meaning.\n",
    "\n",
    "| Character | Description                                 | Example         |\n",
    "|-----------|---------------------------------------------|-----------------|\n",
    "| []        | A set of characters                         | \"[a-m]\"         |\n",
    "| \\         | Signals a special sequence                  | \"\\d\"            |\n",
    "| .         | Any character (except newline character)    | \"he..o\"         |\n",
    "| ^         | Starts with                                 | \"^hello\"        |\n",
    "| $         | Ends with                                   | \"planet$\"       |\n",
    "| *         | Zero or more occurrences                    | \"he.*o\"         |\n",
    "| +         | One or more occurrences                     | \"he.+o\"         |\n",
    "| ?         | Zero or one occurrences                     | \"he.?o\"         |\n",
    "| {}        | Exactly the specified number of occurrences | \"he.{2}o\"       |\n",
    "| \\|        | Either or                                   | \"falls\\|stays\"  |\n",
    "| ()        | Capture and group                           | |\n"
   ]
  },
  {
   "cell_type": "markdown",
   "metadata": {},
   "source": [
    "## Special Sequences\n",
    "\n",
    "A `\\` followed by one or more characters that has a special meaning.\n",
    "\n",
    "| Character | Description                                           | Example        |\n",
    "|-----------|-------------------------------------------------------|----------------|\n",
    "| \\A        | Returns a match if specified characters are at the beginning of the string | \"\\AThe\"         |\n",
    "| \\b        | Returns a match where specified characters are at the beginning or end of a word | r\"\\bain\" r\"ain\\b\" |\n",
    "| \\B        | Returns a match where specified characters are present but NOT at the beginning or end of a word | r\"\\Bain\" r\"ain\\B\" |\n",
    "| \\d        | Returns a match where the string contains digits (numbers 0-9) | \"\\d\"           |\n",
    "| \\D        | Returns a match where the string DOES NOT contain digits | \"\\D\"           |\n",
    "| \\s        | Returns a match where the string contains a white space character | \"\\s\"          |\n",
    "| \\S        | Returns a match where the string DOES NOT contain a white space character | \"\\S\"          |\n",
    "| \\w        | Returns a match where the string contains any word characters (a to Z, 0-9, _) | \"\\w\"         |\n",
    "| \\W        | Returns a match where the string DOES NOT contain any word characters | \"\\W\"         |\n",
    "| \\Z        | Returns a match if specified characters are at the end of the string | \"Spain\\Z\"     |\n"
   ]
  },
  {
   "cell_type": "markdown",
   "metadata": {},
   "source": [
    "## Sets\n",
    "\n",
    "Set of characters inside `[]` with a special meaning.\n",
    "\n",
    "| Character | Description |\n",
    "|-----------|-------------|\n",
    "| [arn]     | Returns a match where one of the specified characters (a, r, or n) is present |\n",
    "| [a-n]     | Returns a match for any lowercase character between a and n alphabetically |\n",
    "| [^arn]    | Returns a match for any character EXCEPT a, r, and n   |              |\n",
    "| [0123]    | Returns a match where any of the specified digits (0, 1, 2, or 3) are present |\n",
    "| [0-9]     | Returns a match for any digit between 0 and 9         |\n",
    "| [0-5][0-9]| Returns a match for any two-digit numbers from 00 to 59 |\n",
    "| [a-zA-Z]  | Returns a match for any character alphabetically between a and z, lowercase OR uppercase |\n",
    "| [+]       | In sets, +, *, ., (), $, {} has no special meaning, so [+] means: return a match for any + character in the string |"
   ]
  },
  {
   "cell_type": "markdown",
   "metadata": {},
   "source": [
    "### Match Object\n",
    "\n",
    "The search function returns a match object, which contains information about the search and the result.\n",
    "\n",
    "The match object has properties and methods:\n",
    "* `.span()`: returns a tuple containing the start and end positions of the match\n",
    "* `.string`: the string passed into the function\n",
    "* `group()`: returns the part of the string where there was a match."
   ]
  },
  {
   "cell_type": "code",
   "execution_count": 30,
   "metadata": {},
   "outputs": [
    {
     "name": "stdout",
     "output_type": "stream",
     "text": [
      "(0, 32)\n",
      "Inheritance and Polymorphism are\n",
      "Inheritance and Polymorphism are concepts in Object Oriented Programming.\n"
     ]
    }
   ],
   "source": [
    "txt = \"Inheritance and Polymorphism are concepts in Object Oriented Programming.\"\n",
    "x = re.search(\".*re\", txt)\n",
    "print(x.span())\n",
    "print(x.group())\n",
    "print(x.string)"
   ]
  }
 ],
 "metadata": {
  "kernelspec": {
   "display_name": "Python 3",
   "language": "python",
   "name": "python3"
  },
  "language_info": {
   "codemirror_mode": {
    "name": "ipython",
    "version": 3
   },
   "file_extension": ".py",
   "mimetype": "text/x-python",
   "name": "python",
   "nbconvert_exporter": "python",
   "pygments_lexer": "ipython3",
   "version": "3.11.3"
  }
 },
 "nbformat": 4,
 "nbformat_minor": 2
}
