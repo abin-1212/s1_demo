{
 "cells": [
  {
   "cell_type": "markdown",
   "metadata": {},
   "source": [
    "# Exception Handling\n",
    "\n",
    "When an error(exception) occurs, python will normally generate an error message. We can handle these `exceptions` using the `try` statement."
   ]
  },
  {
   "cell_type": "code",
   "execution_count": 3,
   "metadata": {},
   "outputs": [
    {
     "name": "stdout",
     "output_type": "stream",
     "text": [
      "Cannot Convert to an Integer!\n"
     ]
    }
   ],
   "source": [
    "x = input()\n",
    "try:\n",
    "    int(x)\n",
    "except:\n",
    "    print(\"Cannot Convert to an Integer!\")"
   ]
  },
  {
   "cell_type": "markdown",
   "metadata": {},
   "source": [
    "We can define as many exception blocks as we want, each for a special kind of error."
   ]
  },
  {
   "cell_type": "code",
   "execution_count": 8,
   "metadata": {},
   "outputs": [
    {
     "name": "stdout",
     "output_type": "stream",
     "text": [
      "Cannot divide by 0!\n",
      "The 'try...except' is complete.\n"
     ]
    }
   ],
   "source": [
    "x = input(\"x: \")\n",
    "y = input(\"y: \")\n",
    "\n",
    "try:\n",
    "    print(int(x) / int(y))\n",
    "except NameError:\n",
    "    print(\"The variables are not defined!\")\n",
    "except ZeroDivisionError:\n",
    "    print(\"Cannot divide by 0!\")\n",
    "except ValueError:\n",
    "    print(\"Not an Integer!\")\n",
    "except:\n",
    "    print(\"Something went wrong!\")\n",
    "# If there are no errors\n",
    "else:\n",
    "    print(\"Success!\")\n",
    "# To be executed no matter what the outcome is\n",
    "finally:\n",
    "    print(\"The 'try...except' is complete.\")"
   ]
  }
 ],
 "metadata": {
  "kernelspec": {
   "display_name": "Python 3",
   "language": "python",
   "name": "python3"
  },
  "language_info": {
   "codemirror_mode": {
    "name": "ipython",
    "version": 3
   },
   "file_extension": ".py",
   "mimetype": "text/x-python",
   "name": "python",
   "nbconvert_exporter": "python",
   "pygments_lexer": "ipython3",
   "version": "3.11.3"
  }
 },
 "nbformat": 4,
 "nbformat_minor": 2
}
