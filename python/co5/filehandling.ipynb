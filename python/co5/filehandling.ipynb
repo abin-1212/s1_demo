{
 "cells": [
  {
   "cell_type": "markdown",
   "metadata": {},
   "source": [
    "# Python File Handling"
   ]
  },
  {
   "cell_type": "markdown",
   "metadata": {},
   "source": [
    "The `open()` function takes two parameters: *filename* and *mode*.\n",
    "\n",
    "#### Open modes\n",
    "* \"r\" - read\n",
    "* \"a\" - append\n",
    "* \"w\" - write\n",
    "* \"x\" - create\n",
    "\n",
    "In addition, we can specify if the file should be handled as text (**\"t\"**, default) or binary (**\"b\"**, for files like images).\n",
    "\n",
    "### Read File\n",
    "\n",
    "`read()` method is used for reading the content of the file."
   ]
  },
  {
   "cell_type": "code",
   "execution_count": 4,
   "metadata": {},
   "outputs": [
    {
     "name": "stdout",
     "output_type": "stream",
     "text": [
      "Lorem ipsum dolor sit amet, consectetur adipiscing elit. Quisque purus mi, sagittis eu pretium eu, viverra et mauris.\n",
      "In sagittis ante vitae nunc molestie, quis pulvinar mi elementum. Pellentesque suscipit porttitor sapien eu mattis.\n",
      "Nullam lobortis ex augue, et dignissim diam suscipit sollicitudin. Pellentesque habitant morbi tristique senectus et \n",
      "netus et malesuada fames ac turpis egestas. Praesent sagittis dolor vel egestas ultrices. Mauris tincidunt erat vitae\n",
      "odio ullamcorper iaculis. Maecenas fermentum auctor tristique. Duis volutpat dapibus dignissim. Nam ut eros blandit,\n",
      "porta magna vitae, porttitor magna. Nunc euismod ullamcorper iaculis. Donec aliquet leo quis lacus rutrum, pharetra\n",
      "augue accumsan. Pellentesque ornare hendrerit nibh, vel finibus velit.\n",
      "\n",
      "Curabitur eu erat at est faucibus feugiat. Praesent ut aliquam erat, eu sodales arcu. Cras aliquam imperdiet lorem, \n",
      "vitae malesuada dolor aliquet sed. Fusce et dui semper, mollis sem in, dignissim leo. Curabitur non ligula ipsum.\n",
      "Nam placerat mauris id rutrum sodales. Duis pretium nibh nec aliquet egestas. Etiam sit amet consectetur elit.\n",
      "Praesent blandit, elit sit amet sodales pulvinar, justo purus volutpat turpis, ac convallis risus ante nec massa. \n",
      "Duis tempor condimentum tortor. Vestibulum ornare fermentum dignissim. Proin euismod tincidunt nunc.\n",
      "\n",
      "Quisque et quam vel nunc iaculis varius non et nunc. Phasellus egestas orci et leo dictum, nec auctor lacus aliquam. \n",
      "Pellentesque habitant morbi tristique senectus et netus et malesuada fames ac turpis egestas. Aliquam consequat vel \n",
      "Phasellus vehicula, neque at blandit commodo, massa lectus tincidunt lectus, in tempus tortor nulla eget sapien.\n",
      "Aenean mattis, nunc vitae vestibulum congue, erat turpis pharetra dui, a vulputate nulla lacus sit amet augue.\n",
      "Vestibulum ante ipsum primis in faucibus orci luctus et ultrices posuere cubilia curae; Donec lorem magna, volutpat \n",
      "sollicitudin erat et, luctus gravida urna. Phasellus lobortis ac elit sit amet porta. Fusce nulla metus, facilisis \n",
      "et lacus a, eleifend pellentesque ex. Duis iaculis interdum ante ac congue. Quisque consectetur nisi sit amet ornare\n",
      "euismod.\n"
     ]
    }
   ],
   "source": [
    "f = open('demo.txt', 'r')\n",
    "print(f.read())"
   ]
  },
  {
   "cell_type": "code",
   "execution_count": 8,
   "metadata": {},
   "outputs": [
    {
     "name": "stdout",
     "output_type": "stream",
     "text": [
      "Lorem ipsu\n"
     ]
    }
   ],
   "source": [
    "# Read only first 10 characters of the file\n",
    "f = open('demo.txt', 'r')\n",
    "print(f.read(10))"
   ]
  },
  {
   "cell_type": "code",
   "execution_count": 10,
   "metadata": {},
   "outputs": [
    {
     "name": "stdout",
     "output_type": "stream",
     "text": [
      "Lorem ipsum dolor sit amet, consectetur adipiscing elit. Quisque purus mi, sagittis eu pretium eu, viverra et mauris.\n",
      "\n",
      "In sagittis ante vitae nunc molestie, quis pulvinar mi elementum. Pellentesque suscipit porttitor sapien eu mattis.\n",
      "\n"
     ]
    }
   ],
   "source": [
    "# Return one line\n",
    "f = open('demo.txt', 'r')\n",
    "print(f.readline())\n",
    "# Return the next line\n",
    "print(f.readline())"
   ]
  },
  {
   "cell_type": "code",
   "execution_count": 21,
   "metadata": {},
   "outputs": [
    {
     "name": "stdout",
     "output_type": "stream",
     "text": [
      "Lorem ipsum dolor sit amet, consectetur adipiscing elit. Quisque purus mi, sagittis eu pretium eu, viverra et mauris.\n",
      "\n",
      "In sagittis ante vitae nunc molestie, quis pulvinar mi elementum. Pellentesque suscipit porttitor sapien eu mattis.\n",
      "\n",
      "Nullam lobortis ex augue, et dignissim diam suscipit sollicitudin. Pellentesque habitant morbi tristique senectus et \n",
      "\n",
      "netus et malesuada fames ac turpis egestas. Praesent sagittis dolor vel egestas ultrices. Mauris tincidunt erat vitae\n",
      "\n",
      "odio ullamcorper iaculis. Maecenas fermentum auctor tristique. Duis volutpat dapibus dignissim. Nam ut eros blandit,\n",
      "\n",
      "porta magna vitae, porttitor magna. Nunc euismod ullamcorper iaculis. Donec aliquet leo quis lacus rutrum, pharetra\n",
      "\n"
     ]
    }
   ],
   "source": [
    "# Print line by line, 6 lines\n",
    "f = open('demo.txt', 'r')\n",
    "\n",
    "count = 0\n",
    "for x in f:\n",
    "    print(x)\n",
    "    count += 1\n",
    "    if count == 6:\n",
    "        break\n",
    "\n",
    "f.close()"
   ]
  },
  {
   "cell_type": "markdown",
   "metadata": {},
   "source": [
    "### Write File\n",
    "\n",
    "To write a file, a new parameter must be added: \n",
    "- \"a\", Append: append to the end of the file\n",
    "- \"w\", Write: overwrite the existing content"
   ]
  },
  {
   "cell_type": "code",
   "execution_count": 50,
   "metadata": {},
   "outputs": [
    {
     "name": "stdout",
     "output_type": "stream",
     "text": [
      "Hello\n"
     ]
    }
   ],
   "source": [
    "# Creating a new file, if it does not already exist\n",
    "f = open(\"demo2.txt\", \"w\")\n",
    "f.write(\"Hello\")\n",
    "\n",
    "toread = open(\"demo2.txt\", \"r\")\n",
    "print(toread.read())"
   ]
  },
  {
   "cell_type": "code",
   "execution_count": 52,
   "metadata": {},
   "outputs": [
    {
     "name": "stdout",
     "output_type": "stream",
     "text": [
      "Hello world!\n"
     ]
    }
   ],
   "source": [
    "# Adding content to it\n",
    "f = open(\"demo2.txt\", \"a\")\n",
    "f.write(\" world!\")\n",
    "\n",
    "toread = open(\"demo2.txt\", \"r\")\n",
    "print(toread.read())\n",
    "toread.close()"
   ]
  },
  {
   "cell_type": "markdown",
   "metadata": {},
   "source": [
    "### Delete File\n",
    "\n",
    "To delete a file, we need the `os` module"
   ]
  },
  {
   "cell_type": "code",
   "execution_count": null,
   "metadata": {},
   "outputs": [],
   "source": [
    "import os\n",
    "if os.path.exists(\"demo2.txt\"):\n",
    "    os.remove(\"demo2.txt\")"
   ]
  },
  {
   "cell_type": "markdown",
   "metadata": {},
   "source": [
    "To delete a folder, \n",
    "```\n",
    "import os\n",
    "os.rmdir(\"myfolder\")\n",
    "```"
   ]
  },
  {
   "cell_type": "markdown",
   "metadata": {},
   "source": [
    "## CSV Files\n",
    "\n",
    "CSV (Comma Separated Values) is a file format for storing and exchanging tabular data.\n",
    "\n",
    "#### Read CSV \n",
    "\n",
    "We use the `csv` module to read from or write into a csv file.\n",
    "\n",
    "* The `reader` function is used to read from the csv file. By default, the reader function returns each row as a list. \n",
    "* The `DictReader` function is used to read each row from the csv as a dictionary."
   ]
  },
  {
   "cell_type": "code",
   "execution_count": 9,
   "metadata": {},
   "outputs": [
    {
     "name": "stdout",
     "output_type": "stream",
     "text": [
      "Fields:  ['Duration', 'Pulse', 'Maxpulse', 'Calories']\n",
      "Number of rows:  170\n",
      "The first three rows are:  [['60', '110', '130', '409.1'], ['60', '117', '145', '479.0'], ['60', '103', '135', '340.0']]\n"
     ]
    }
   ],
   "source": [
    "import csv\n",
    "\n",
    "csvfile = open('data.csv', 'r')\n",
    "reader = csv.reader(csvfile)\n",
    "\n",
    "# Removing and returnging the first row: Field Titles\n",
    "fields = next(reader)\n",
    "\n",
    "# Extracting each row\n",
    "rows = []\n",
    "for row in reader:\n",
    "    rows.append(row)\n",
    "    \n",
    "print(\"Fields: \", fields)\n",
    "print(\"Number of rows: \", reader.line_num)\n",
    "print(\"The first three rows are: \", rows[:3])"
   ]
  },
  {
   "cell_type": "code",
   "execution_count": 18,
   "metadata": {},
   "outputs": [
    {
     "name": "stdout",
     "output_type": "stream",
     "text": [
      "{'Duration': '60', 'Pulse': '110', 'Maxpulse': '130', 'Calories': '409.1'}\n",
      "{'Duration': '60', 'Pulse': '117', 'Maxpulse': '145', 'Calories': '479.0'}\n",
      "{'Duration': '60', 'Pulse': '103', 'Maxpulse': '135', 'Calories': '340.0'}\n",
      "{'Duration': '45', 'Pulse': '109', 'Maxpulse': '175', 'Calories': '282.4'}\n",
      "{'Duration': '45', 'Pulse': '117', 'Maxpulse': '148', 'Calories': '406.0'}\n"
     ]
    }
   ],
   "source": [
    "csvfile = open('data.csv', 'r')\n",
    "reader = csv.DictReader(csvfile)\n",
    "\n",
    "count = 0\n",
    "for row in reader:\n",
    "    print(row)\n",
    "    count += 1\n",
    "    if count == 5:\n",
    "        break"
   ]
  },
  {
   "cell_type": "markdown",
   "metadata": {},
   "source": [
    "#### Write CSV\n",
    "\n",
    "To **write** into a csv file, we open the file in write mode, and covert it to the `writer` object. Now we can use the `writerow`/ `writerows` functions to write into the csv file."
   ]
  },
  {
   "cell_type": "code",
   "execution_count": 20,
   "metadata": {},
   "outputs": [],
   "source": [
    "fields = ['Name', 'Branch', 'Year', 'CGPA']\n",
    "rows = [['Nikhil', 'COE', '2', '9.0'],\n",
    "        ['Sanchit', 'COE', '2', '9.1'],\n",
    "        ['Aditya', 'IT', '2', '9.3'],\n",
    "        ['Sagar', 'SE', '1', '9.5'],\n",
    "        ['Prateek', 'MCE', '3', '7.8'],\n",
    "        ['Sahil', 'EP', '2', '9.1']]\n",
    "\n",
    "with open(\"new.csv\", 'w') as csvfile:\n",
    "    csvwriter = csv.writer(csvfile)\n",
    "    csvwriter.writerow(fields)\n",
    "    csvwriter.writerows(rows)"
   ]
  },
  {
   "cell_type": "markdown",
   "metadata": {},
   "source": [
    "#### DictWriter\n",
    "\n",
    "This object is used to write a dictionary to a csv file.\n",
    "\n",
    "The function takes arguments: the filename and the headers."
   ]
  },
  {
   "cell_type": "code",
   "execution_count": 26,
   "metadata": {},
   "outputs": [],
   "source": [
    "# A list of dictionaies\n",
    "mydict = [{\n",
    "    1: \"apple\",\n",
    "    2: \"orange\",\n",
    "    3: \"grapes\",\n",
    "    4: \"pineapple\"\n",
    "}]\n",
    "\n",
    "with open(\"new.csv\", \"w\") as file:\n",
    "    writer = csv.DictWriter(file, fieldnames=[1, 2, 3, 4])\n",
    "    writer.writeheader()\n",
    "    writer.writerows(mydict)"
   ]
  }
 ],
 "metadata": {
  "kernelspec": {
   "display_name": "Python 3",
   "language": "python",
   "name": "python3"
  },
  "language_info": {
   "codemirror_mode": {
    "name": "ipython",
    "version": 3
   },
   "file_extension": ".py",
   "mimetype": "text/x-python",
   "name": "python",
   "nbconvert_exporter": "python",
   "pygments_lexer": "ipython3",
   "version": "3.11.3"
  }
 },
 "nbformat": 4,
 "nbformat_minor": 2
}
