{
 "cells": [
  {
   "cell_type": "markdown",
   "metadata": {},
   "source": [
    "# Python File Handling"
   ]
  },
  {
   "cell_type": "markdown",
   "metadata": {},
   "source": [
    "The `open()` function takes two parameters: *filename* and *mode*.\n",
    "\n",
    "#### Access modes\n",
    "* \"r\" - read\n",
    "* \"r+\" - read and write\n",
    "* \"w\" - write\n",
    "* \"w+\" - write and read\n",
    "* \"a\" - append\n",
    "* \"a+\" - append and read\n",
    "* \"x\" - create\n",
    "\n",
    "In addition, we can specify if the file should be handled as text (**\"t\"**, default) or binary (**\"b\"**, for files like images).\n",
    "> f = open(filename, mode)\n",
    "\n",
    "### Read File\n",
    "\n",
    "`read()` method is used for reading the content of the file.\n"
   ]
  },
  {
   "cell_type": "code",
   "execution_count": 1,
   "metadata": {},
   "outputs": [
    {
     "name": "stdout",
     "output_type": "stream",
     "text": [
      "Lorem ipsum dolor sit amet, consectetur adipiscing elit. Quisque purus mi, sagittis eu pretium eu, viverra et mauris.\n",
      "In sagittis ante vitae nunc molestie, quis pulvinar mi elementum. Pellentesque suscipit porttitor sapien eu mattis.\n",
      "Nullam lobortis ex augue, et dignissim diam suscipit sollicitudin. Pellentesque habitant morbi tristique senectus et \n",
      "netus et malesuada fames ac turpis egestas. Praesent sagittis dolor vel egestas ultrices. Mauris tincidunt erat vitae\n",
      "odio ullamcorper iaculis. Maecenas fermentum auctor tristique. Duis volutpat dapibus dignissim. Nam ut eros blandit,\n",
      "porta magna vitae, porttitor magna. Nunc euismod ullamcorper iaculis. Donec aliquet leo quis lacus rutrum, pharetra\n",
      "augue accumsan. Pellentesque ornare hendrerit nibh, vel finibus velit.\n",
      "\n"
     ]
    }
   ],
   "source": [
    "f = open('demo.txt', 'r')\n",
    "print(f.read())"
   ]
  },
  {
   "cell_type": "code",
   "execution_count": 2,
   "metadata": {},
   "outputs": [
    {
     "name": "stdout",
     "output_type": "stream",
     "text": [
      "Lorem ipsu\n"
     ]
    }
   ],
   "source": [
    "# Read only first 10 characters of the file\n",
    "f = open('demo.txt', 'r')\n",
    "print(f.read(10))"
   ]
  },
  {
   "cell_type": "code",
   "execution_count": 9,
   "metadata": {},
   "outputs": [
    {
     "name": "stdout",
     "output_type": "stream",
     "text": [
      "Lorem ipsum dolor sit amet, consectetur adipiscing elit. Quisque purus mi, sagittis eu pretium eu, viverra et mauris.\n",
      "\n",
      "In sagittis ante vitae nunc molestie, quis pulvinar mi elementum. Pellentesque suscipit porttitor sapien eu mattis.\n",
      "\n",
      "Nullam lobortis ex augue, et dignissim diam suscipit sollicitudin. Pellentesque habitant morbi tristique senectus et \n",
      "\n",
      "netus et malesuada fames ac turpis egestas. Praesent sagittis dolor vel egestas ultrices. Mauris tincidunt erat vitae\n",
      "\n",
      "odio ullamcorper iaculis. Maecenas fermentum auctor tristique. Duis volutpat dapibus dignissim. Nam ut eros blandit,\n",
      "\n",
      "porta magna vitae, porttitor magna. Nunc euismod ullamcorper iaculis. Donec aliquet leo quis lacus rutrum, pharetra\n",
      "\n",
      "augue accumsan. Pellentesque ornare hendrerit nibh, vel finibus velit.\n",
      "\n"
     ]
    }
   ],
   "source": [
    "# Read line by line\n",
    "f = open('demo.txt')\n",
    "for line in f:\n",
    "    print(line)"
   ]
  },
  {
   "cell_type": "code",
   "execution_count": 3,
   "metadata": {},
   "outputs": [
    {
     "name": "stdout",
     "output_type": "stream",
     "text": [
      "Lorem ipsum dolor sit amet, consectetur adipiscing elit. Quisque purus mi, sagittis eu pretium eu, viverra et mauris.\n",
      "\n",
      "In sagittis ante vitae nunc molestie, quis pulvinar mi elementum. Pellentesque suscipit porttitor sapien eu mattis.\n",
      "\n"
     ]
    }
   ],
   "source": [
    "# Return one line\n",
    "f = open('demo.txt', 'r')\n",
    "print(f.readline())\n",
    "# Return the next line\n",
    "print(f.readline())"
   ]
  },
  {
   "cell_type": "code",
   "execution_count": 12,
   "metadata": {},
   "outputs": [
    {
     "name": "stdout",
     "output_type": "stream",
     "text": [
      "Lorem ipsum dolor sit amet, consectetur adipiscing elit. Quisque purus mi, sagittis eu pretium eu, v\n"
     ]
    }
   ],
   "source": [
    "# Using the 'with' statement\n",
    "with open('demo.txt') as f:\n",
    "    data = f.read()\n",
    "print(data[:100])"
   ]
  },
  {
   "cell_type": "markdown",
   "metadata": {},
   "source": [
    "### Write File\n",
    "\n",
    "To write a file, a new parameter must be added: \n",
    "- \"a\", Append: append to the end of the file\n",
    "- \"w\", Write: overwrite the existing content"
   ]
  },
  {
   "cell_type": "code",
   "execution_count": 14,
   "metadata": {},
   "outputs": [
    {
     "name": "stdout",
     "output_type": "stream",
     "text": [
      "Hello\n"
     ]
    }
   ],
   "source": [
    "# Creating a new file, if it does not already exist\n",
    "f = open(\"demo2.txt\", \"w\")\n",
    "f.write(\"Hello\")\n",
    "\n",
    "toread = open(\"demo2.txt\", \"r\")\n",
    "print(toread.read())"
   ]
  },
  {
   "cell_type": "code",
   "execution_count": 6,
   "metadata": {},
   "outputs": [
    {
     "name": "stdout",
     "output_type": "stream",
     "text": [
      "Hello\n"
     ]
    }
   ],
   "source": [
    "# Adding content to it: append\n",
    "f = open(\"demo2.txt\", \"a\")\n",
    "f.write(\" world!\")\n",
    "\n",
    "toread = open(\"demo2.txt\", \"r\")\n",
    "print(toread.read())\n",
    "toread.close()"
   ]
  },
  {
   "cell_type": "code",
   "execution_count": 24,
   "metadata": {},
   "outputs": [
    {
     "data": {
      "text/plain": [
       "'harry potter and the chamber of secretsharry potter and the half blood prince'"
      ]
     },
     "execution_count": 24,
     "metadata": {},
     "output_type": "execute_result"
    }
   ],
   "source": [
    "# Writing multiple lines\n",
    "f = open(\"demo2.txt\", \"w+\")\n",
    "lines = [\"harry potter and the chamber of secrets\", \"harry potter and the half blood prince\"]\n",
    "f.writelines(lines)\n",
    "f.seek(0)\n",
    "f.read()"
   ]
  },
  {
   "cell_type": "markdown",
   "metadata": {},
   "source": [
    "### Delete File\n",
    "\n",
    "To delete a file, we need the `os` module"
   ]
  },
  {
   "cell_type": "code",
   "execution_count": 23,
   "metadata": {},
   "outputs": [],
   "source": [
    "import os\n",
    "if os.path.exists(\"demo2.txt\"):\n",
    "    os.remove(\"demo2.txt\")"
   ]
  },
  {
   "cell_type": "markdown",
   "metadata": {},
   "source": [
    "To delete a folder, \n",
    "```\n",
    "import os\n",
    "os.rmdir(\"myfolder\")\n",
    "```"
   ]
  },
  {
   "cell_type": "markdown",
   "metadata": {},
   "source": [
    "## CSV Files\n",
    "\n",
    "CSV (Comma Separated Values) is a file format for storing and exchanging tabular data.\n",
    "\n",
    "#### Read CSV \n",
    "\n",
    "We use the `csv` module to read from or write into a csv file.\n",
    "\n",
    "* The `reader` function is used to read from the csv file. By default, the reader function returns each row as a list. \n",
    "* The `DictReader` function is used to read each row from the csv as a dictionary."
   ]
  },
  {
   "cell_type": "code",
   "execution_count": null,
   "metadata": {},
   "outputs": [
    {
     "name": "stdout",
     "output_type": "stream",
     "text": [
      "Fields:  ['Duration', 'Pulse', 'Maxpulse', 'Calories']\n",
      "Number of rows:  170\n",
      "The first three rows are:  [['60', '110', '130', '409.1'], ['60', '117', '145', '479.0'], ['60', '103', '135', '340.0']]\n"
     ]
    }
   ],
   "source": [
    "import csv\n",
    "\n",
    "csvfile = open('data.csv', 'r')\n",
    "reader = csv.reader(csvfile)\n",
    "\n",
    "# Removing and returnging the first row: Field Titles\n",
    "fields = next(reader)\n",
    "\n",
    "# Extracting each row\n",
    "rows = []\n",
    "for row in reader:\n",
    "    rows.append(row)\n",
    "    \n",
    "print(\"Fields: \", fields)\n",
    "print(\"Number of rows: \", reader.line_num)\n",
    "print(\"The first three rows are: \", rows[:3])"
   ]
  },
  {
   "cell_type": "code",
   "execution_count": null,
   "metadata": {},
   "outputs": [
    {
     "name": "stdout",
     "output_type": "stream",
     "text": [
      "{'Duration': '60', 'Pulse': '110', 'Maxpulse': '130', 'Calories': '409.1'}\n",
      "{'Duration': '60', 'Pulse': '117', 'Maxpulse': '145', 'Calories': '479.0'}\n",
      "{'Duration': '60', 'Pulse': '103', 'Maxpulse': '135', 'Calories': '340.0'}\n",
      "{'Duration': '45', 'Pulse': '109', 'Maxpulse': '175', 'Calories': '282.4'}\n",
      "{'Duration': '45', 'Pulse': '117', 'Maxpulse': '148', 'Calories': '406.0'}\n"
     ]
    }
   ],
   "source": [
    "csvfile = open('data.csv', 'r')\n",
    "reader = csv.DictReader(csvfile)\n",
    "\n",
    "count = 0\n",
    "for row in reader:\n",
    "    print(row)\n",
    "    count += 1\n",
    "    if count == 5:\n",
    "        break"
   ]
  },
  {
   "cell_type": "markdown",
   "metadata": {},
   "source": [
    "#### Write CSV\n",
    "\n",
    "To **write** into a csv file, we open the file in write mode, and covert it to the `writer` object. Now we can use the `writerow`/ `writerows` functions to write into the csv file."
   ]
  },
  {
   "cell_type": "code",
   "execution_count": null,
   "metadata": {},
   "outputs": [],
   "source": [
    "fields = ['Name', 'Branch', 'Year', 'CGPA']\n",
    "rows = [['Nikhil', 'COE', '2', '9.0'],\n",
    "        ['Sanchit', 'COE', '2', '9.1'],\n",
    "        ['Aditya', 'IT', '2', '9.3'],\n",
    "        ['Sagar', 'SE', '1', '9.5'],\n",
    "        ['Prateek', 'MCE', '3', '7.8'],\n",
    "        ['Sahil', 'EP', '2', '9.1']]\n",
    "\n",
    "with open(\"new.csv\", 'w') as csvfile:\n",
    "    csvwriter = csv.writer(csvfile)\n",
    "    csvwriter.writerow(fields)\n",
    "    csvwriter.writerows(rows)"
   ]
  },
  {
   "cell_type": "markdown",
   "metadata": {},
   "source": [
    "#### DictWriter\n",
    "\n",
    "This object is used to write a dictionary to a csv file.\n",
    "\n",
    "The function takes arguments: the filename and the headers."
   ]
  },
  {
   "cell_type": "code",
   "execution_count": null,
   "metadata": {},
   "outputs": [],
   "source": [
    "# A list of dictionaies\n",
    "mydict = [{\n",
    "    1: \"apple\",\n",
    "    2: \"orange\",\n",
    "    3: \"grapes\",\n",
    "    4: \"pineapple\"\n",
    "}]\n",
    "\n",
    "with open(\"new.csv\", \"w\") as file:\n",
    "    writer = csv.DictWriter(file, fieldnames=[1, 2, 3, 4])\n",
    "    writer.writeheader()\n",
    "    writer.writerows(mydict)"
   ]
  }
 ],
 "metadata": {
  "kernelspec": {
   "display_name": "Python 3",
   "language": "python",
   "name": "python3"
  },
  "language_info": {
   "codemirror_mode": {
    "name": "ipython",
    "version": 3
   },
   "file_extension": ".py",
   "mimetype": "text/x-python",
   "name": "python",
   "nbconvert_exporter": "python",
   "pygments_lexer": "ipython3",
   "version": "3.11.3"
  }
 },
 "nbformat": 4,
 "nbformat_minor": 2
}
